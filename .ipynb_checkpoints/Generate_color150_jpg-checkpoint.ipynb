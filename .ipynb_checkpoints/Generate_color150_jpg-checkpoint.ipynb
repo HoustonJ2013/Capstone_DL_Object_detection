{
 "cells": [
  {
   "cell_type": "code",
   "execution_count": 4,
   "metadata": {},
   "outputs": [],
   "source": [
    "## This jupyter notebook need to be run in main folder\n",
    "import numpy as np\n",
    "import pandas as pd\n",
    "from src.concat_image import *\n",
    "from src.metrics_acc_iou import *\n",
    "import matplotlib.pyplot as plt\n",
    "from PIL import Image\n",
    "from PIL import ImageFont\n",
    "from PIL import ImageDraw \n",
    "%matplotlib inline\n",
    "font = {'family' : 'normal',\n",
    "        'weight' : 'bold',\n",
    "        'size'   : 22}\n",
    "plt.rc('font', **font)\n",
    "obj_df = pd.read_csv(\"data/object150_info.csv\")\n",
    "colors = loadmat(\"data/color150.mat\")['colors']\n",
    "def generate_color_jpg(color_list):\n",
    "    for i in range(len(color_list)):\n",
    "        color_c = color_list[i]\n",
    "        cat_name = obj_df[obj_df[\"Idx\"].isin([color_c + 1])][\"Name\"].values[0]\n",
    "        cat_name = cat_name.split(\";\")[0]\n",
    "        labelmap_rgb = np.zeros((60, 150, 3),\n",
    "                                    dtype=np.uint8)\n",
    "        labelmap_rgb[:,:,0] = colors[color_c][0]\n",
    "        labelmap_rgb[:,:,1] = colors[color_c][1]\n",
    "        labelmap_rgb[:,:,2] = colors[color_c][2]\n",
    "        img = Image.fromarray(labelmap_rgb)\n",
    "        draw = ImageDraw.Draw(img)\n",
    "        font = ImageFont.truetype(\"color150/arial.ttf\", 32)\n",
    "        draw.text((0, 5), cat_name, (0,0,0), font = font)\n",
    "        img.save(\"color150/\" + cat_name + \".jpg\")\n",
    "color_list0 = range(150)\n",
    "generate_color_jpg(color_list0)"
   ]
  },
  {
   "cell_type": "code",
   "execution_count": null,
   "metadata": {
    "collapsed": true
   },
   "outputs": [],
   "source": []
  }
 ],
 "metadata": {
  "kernelspec": {
   "display_name": "Python 2",
   "language": "python",
   "name": "python2"
  },
  "language_info": {
   "codemirror_mode": {
    "name": "ipython",
    "version": 2
   },
   "file_extension": ".py",
   "mimetype": "text/x-python",
   "name": "python",
   "nbconvert_exporter": "python",
   "pygments_lexer": "ipython2",
   "version": "2.7.13"
  }
 },
 "nbformat": 4,
 "nbformat_minor": 2
}
