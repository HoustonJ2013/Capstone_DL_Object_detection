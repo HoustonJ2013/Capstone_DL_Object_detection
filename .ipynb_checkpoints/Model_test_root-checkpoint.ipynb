{
 "cells": [
  {
   "cell_type": "code",
   "execution_count": 4,
   "metadata": {
    "collapsed": false
   },
   "outputs": [],
   "source": [
    "from __future__ import print_function\n",
    "from __future__ import division\n",
    "from os.path import splitext, join, isfile\n",
    "from os import environ\n",
    "from math import ceil\n",
    "import argparse\n",
    "import numpy as np\n",
    "from scipy import misc, ndimage\n",
    "from keras import backend as K\n",
    "from keras.models import model_from_json\n",
    "import tensorflow as tf\n",
    "import matplotlib.pyplot as plt\n",
    "from datetime import datetime\n",
    "from models.pspnet_pred import *"
   ]
  },
  {
   "cell_type": "code",
   "execution_count": 5,
   "metadata": {
    "collapsed": false
   },
   "outputs": [
    {
     "name": "stdout",
     "output_type": "stream",
     "text": [
      "     START AT 2018-01-11 21:58:57.589567\n",
      "     BF Init Model 2018-01-11 21:58:57.693667 0:00:00.104134\n",
      "Keras model & weights found, loading...\n",
      "     AF Init Model 2018-01-11 21:59:01.857585 0:00:04.268045\n"
     ]
    },
    {
     "ename": "NameError",
     "evalue": "name 'args' is not defined",
     "output_type": "error",
     "traceback": [
      "\u001b[0;31m---------------------------------------------------------------------------\u001b[0m",
      "\u001b[0;31mNameError\u001b[0m                                 Traceback (most recent call last)",
      "\u001b[0;32m<ipython-input-5-426bf67cb415>\u001b[0m in \u001b[0;36m<module>\u001b[0;34m()\u001b[0m\n\u001b[1;32m     21\u001b[0m     \u001b[0mlist_name\u001b[0m \u001b[0;34m=\u001b[0m \u001b[0;34m\"data/ADEChallengeData2016/images/validation/ADE_val_00000001.jpg\"\u001b[0m\u001b[0;34m\u001b[0m\u001b[0m\n\u001b[1;32m     22\u001b[0m     \u001b[0mimg\u001b[0m \u001b[0;34m=\u001b[0m \u001b[0mmisc\u001b[0m\u001b[0;34m.\u001b[0m\u001b[0mimread\u001b[0m\u001b[0;34m(\u001b[0m\u001b[0mlist_name\u001b[0m\u001b[0;34m,\u001b[0m \u001b[0mmode\u001b[0m\u001b[0;34m=\u001b[0m\u001b[0;34m\"RGB\"\u001b[0m\u001b[0;34m)\u001b[0m\u001b[0;34m\u001b[0m\u001b[0m\n\u001b[0;32m---> 23\u001b[0;31m     \u001b[0mclass_scores\u001b[0m \u001b[0;34m=\u001b[0m \u001b[0mpredict_multi_scale\u001b[0m\u001b[0;34m(\u001b[0m\u001b[0mimg\u001b[0m\u001b[0;34m,\u001b[0m \u001b[0mpspnet\u001b[0m\u001b[0;34m,\u001b[0m \u001b[0mEVALUATION_SCALES\u001b[0m\u001b[0;34m,\u001b[0m \u001b[0margs\u001b[0m\u001b[0;34m.\u001b[0m\u001b[0msliding\u001b[0m\u001b[0;34m,\u001b[0m \u001b[0margs\u001b[0m\u001b[0;34m.\u001b[0m\u001b[0mflip\u001b[0m\u001b[0;34m)\u001b[0m\u001b[0;34m\u001b[0m\u001b[0m\n\u001b[0m\u001b[1;32m     24\u001b[0m     \u001b[0mclass_image\u001b[0m \u001b[0;34m=\u001b[0m \u001b[0mnp\u001b[0m\u001b[0;34m.\u001b[0m\u001b[0margmax\u001b[0m\u001b[0;34m(\u001b[0m\u001b[0mclass_scores\u001b[0m\u001b[0;34m,\u001b[0m \u001b[0maxis\u001b[0m\u001b[0;34m=\u001b[0m\u001b[0;36m2\u001b[0m\u001b[0;34m)\u001b[0m\u001b[0;34m\u001b[0m\u001b[0m\n\u001b[1;32m     25\u001b[0m     \u001b[0mprint\u001b[0m\u001b[0;34m(\u001b[0m\u001b[0;34m\"Predicting for \"\u001b[0m\u001b[0;34m,\u001b[0m \u001b[0mlist_name\u001b[0m\u001b[0;34m)\u001b[0m\u001b[0;34m\u001b[0m\u001b[0m\n",
      "\u001b[0;31mNameError\u001b[0m: name 'args' is not defined"
     ]
    }
   ],
   "source": [
    "TIME_START = datetime.now()\n",
    "print(\"     START AT\", str(TIME_START))\n",
    "sess = tf.Session()\n",
    "K.set_session(sess)\n",
    "model = \"pspnet50_ade20k\"\n",
    "\n",
    "print(\"     BF Init Model\", str(datetime.now()), datetime.now() - TIME_START)\n",
    "\n",
    "with sess.as_default():\n",
    "    if \"pspnet50\" in model:\n",
    "        pspnet = PSPNet50(nb_classes=150, input_shape=(473, 473),\n",
    "                          weights=model)\n",
    "    else:\n",
    "        print(\"Network architecture not implemented.\")\n",
    "\n",
    "    print(\"     AF Init Model\", str(datetime.now()), datetime.now() - TIME_START)\n",
    "\n",
    "\n",
    "    #EVALUATION_SCALES = [0.5, 0.75, 1.0, 1.25, 1.5, 1.75]  # must be all floats!\n",
    "\n",
    "    list_name = \"data/ADEChallengeData2016/images/validation/ADE_val_00000001.jpg\"\n",
    "    img = misc.imread(list_name, mode=\"RGB\")\n",
    "    class_scores = predict_multi_scale(img, pspnet, True, False, True)\n",
    "    class_image = np.argmax(class_scores, axis=2)\n",
    "    print(\"Predicting for \", list_name)\n",
    "    output_name = list_name.split(\"/\")[-1].replace(\".jpg\", \"\").replace(\".png\", \"\")\n",
    "    np.save(join(args.output_path,output_name), class_image.astype(\"int16\") + 1)"
   ]
  },
  {
   "cell_type": "code",
   "execution_count": null,
   "metadata": {
    "collapsed": true
   },
   "outputs": [],
   "source": []
  }
 ],
 "metadata": {
  "anaconda-cloud": {},
  "kernelspec": {
   "display_name": "Python [conda root]",
   "language": "python",
   "name": "conda-root-py"
  },
  "language_info": {
   "codemirror_mode": {
    "name": "ipython",
    "version": 3
   },
   "file_extension": ".py",
   "mimetype": "text/x-python",
   "name": "python",
   "nbconvert_exporter": "python",
   "pygments_lexer": "ipython3",
   "version": "3.5.2"
  }
 },
 "nbformat": 4,
 "nbformat_minor": 1
}
