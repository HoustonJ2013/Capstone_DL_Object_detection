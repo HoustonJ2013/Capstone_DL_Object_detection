{
 "cells": [
  {
   "cell_type": "code",
   "execution_count": 2,
   "metadata": {},
   "outputs": [],
   "source": [
    "import numpy as np"
   ]
  },
  {
   "cell_type": "code",
   "execution_count": 36,
   "metadata": {},
   "outputs": [
    {
     "name": "stdout",
     "output_type": "stream",
     "text": [
      "ADE_val_00000001.npy                intersec3.npy        pred_img4.npy\r\n",
      "\u001b[0m\u001b[01;35mADE_val_00000001.png\u001b[0m                intersec4.npy        pred_img5.npy\r\n",
      "ADE_val_00000974_mitbs.npy          intersec5.npy        pred_img6.npy\r\n",
      "ADE_val_00000974_psp.npy            intersec6.npy        pred_img7.npy\r\n",
      "area_lab0.npy                       intersec7.npy        pred_img8.npy\r\n",
      "area_lab1.npy                       intersec8.npy        pred_img9.npy\r\n",
      "area_lab2.npy                       intersec9.npy        pytorch_log\r\n",
      "area_lab3.npy                       iou_final.npy        pytorch_log_iou\r\n",
      "area_lab4.npy                       local_intersec0.npy  segs_img0.npy\r\n",
      "area_lab5.npy                       local_intersec1.npy  segs_img1.npy\r\n",
      "area_lab6.npy                       local_intersec2.npy  segs_img2.npy\r\n",
      "area_lab7.npy                       local_intersec3.npy  segs_img3.npy\r\n",
      "area_lab8.npy                       local_intersec4.npy  segs_img4.npy\r\n",
      "area_lab9.npy                       local_intersec5.npy  segs_img5.npy\r\n",
      "area_pred0.npy                      local_intersec6.npy  segs_img6.npy\r\n",
      "area_pred1.npy                      local_intersec7.npy  segs_img7.npy\r\n",
      "area_pred2.npy                      local_intersec8.npy  segs_img8.npy\r\n",
      "area_pred3.npy                      local_intersec9.npy  segs_img9.npy\r\n",
      "area_pred4.npy                      local_union0.npy     union0.npy\r\n",
      "area_pred5.npy                      local_union1.npy     union1.npy\r\n",
      "area_pred6.npy                      local_union2.npy     union2.npy\r\n",
      "area_pred7.npy                      local_union3.npy     union3.npy\r\n",
      "area_pred8.npy                      local_union4.npy     union4.npy\r\n",
      "area_pred9.npy                      local_union5.npy     union5.npy\r\n",
      "debug_metrics.ipynb                 local_union6.npy     union6.npy\r\n",
      "debug_pred_0.npy                    local_union7.npy     union7.npy\r\n",
      "debug_val_0.npy                     local_union8.npy     union8.npy\r\n",
      "EDA_training_size_gray_scale.ipynb  local_union9.npy     union9.npy\r\n",
      "EDA_val_size_gray_scale.ipynb       pred_img0.npy        utils.py\r\n",
      "intersec0.npy                       pred_img1.npy        utils.pyc\r\n",
      "intersec1.npy                       pred_img2.npy\r\n",
      "intersec2.npy                       pred_img3.npy\r\n"
     ]
    }
   ],
   "source": [
    "ls"
   ]
  },
  {
   "cell_type": "code",
   "execution_count": 46,
   "metadata": {
    "collapsed": true
   },
   "outputs": [],
   "source": [
    "int_p = np.load(\"intersec0.npy\")\n",
    "int_l = np.load(\"local_intersec0.npy\").flatten()\n",
    "uni_p = np.load(\"union0.npy\")\n",
    "uni_l = np.load(\"local_union0.npy\").flatten()"
   ]
  },
  {
   "cell_type": "code",
   "execution_count": 47,
   "metadata": {},
   "outputs": [
    {
     "data": {
      "text/plain": [
       "0.0"
      ]
     },
     "execution_count": 47,
     "metadata": {},
     "output_type": "execute_result"
    }
   ],
   "source": [
    "np.sum(int_p - int_l)"
   ]
  },
  {
   "cell_type": "code",
   "execution_count": 48,
   "metadata": {},
   "outputs": [
    {
     "data": {
      "text/plain": [
       "113256.0"
      ]
     },
     "execution_count": 48,
     "metadata": {},
     "output_type": "execute_result"
    }
   ],
   "source": [
    "np.sum(uni_p - uni_l)"
   ]
  },
  {
   "cell_type": "code",
   "execution_count": 49,
   "metadata": {},
   "outputs": [
    {
     "name": "stdout",
     "output_type": "stream",
     "text": [
      "[  21597.  124220.  135240.   11820.    1755.   54722.   10713.  113256.]\n",
      "(array([ 0,  1,  2,  4,  6,  9, 17, 25]),)\n",
      "[  21597.  124220.  135240.   11820.    1755.   54722.   10713.]\n",
      "(array([ 0,  1,  2,  4,  6,  9, 17]),)\n"
     ]
    }
   ],
   "source": [
    "print(uni_p[uni_p > 0])\n",
    "print(np.where(uni_p > 0))\n",
    "print(uni_l[uni_l > 0])\n",
    "print(np.where(uni_l > 0))\n",
    "uni_l_p = uni_l[uni_l > 0][0:7]\n",
    "uni_p_p = uni_p[uni_p > 0][0:7]"
   ]
  },
  {
   "cell_type": "code",
   "execution_count": 45,
   "metadata": {},
   "outputs": [
    {
     "data": {
      "text/plain": [
       "113256"
      ]
     },
     "execution_count": 45,
     "metadata": {},
     "output_type": "execute_result"
    }
   ],
   "source": [
    "np.sum(pred_img0 == 25)"
   ]
  },
  {
   "cell_type": "code",
   "execution_count": 14,
   "metadata": {},
   "outputs": [],
   "source": [
    "area_pred0 = np.load(\"area_pred0.npy\")\n",
    "area_lab0 = np.load(\"area_lab0.npy\")\n",
    "pred_img0 = np.load(\"pred_img0.npy\")\n",
    "segs_img0 = np.load(\"segs_img0.npy\")"
   ]
  },
  {
   "cell_type": "code",
   "execution_count": 18,
   "metadata": {},
   "outputs": [
    {
     "name": "stdout",
     "output_type": "stream",
     "text": [
      "18737.0\n",
      "14538.0\n"
     ]
    }
   ],
   "source": [
    "print(area_pred0[0])\n",
    "print(area_lab0[0])"
   ]
  },
  {
   "cell_type": "code",
   "execution_count": 24,
   "metadata": {},
   "outputs": [],
   "source": [
    "pred_img0_r = pred_img0.reshape((512,683))"
   ]
  },
  {
   "cell_type": "code",
   "execution_count": 31,
   "metadata": {},
   "outputs": [],
   "source": [
    "pred_img_l = np.load(\"debug_pred_0.npy\")\n",
    "seg_img_l = np.load(\"debug_val_0.npy\")\n",
    "pred_img_l[seg_img_l < 0] = -1"
   ]
  },
  {
   "cell_type": "code",
   "execution_count": 33,
   "metadata": {},
   "outputs": [
    {
     "data": {
      "text/plain": [
       "0.0"
      ]
     },
     "execution_count": 33,
     "metadata": {},
     "output_type": "execute_result"
    }
   ],
   "source": [
    "np.sum(pred_img0_r - pred_img_l)"
   ]
  },
  {
   "cell_type": "code",
   "execution_count": 29,
   "metadata": {},
   "outputs": [
    {
     "data": {
      "text/plain": [
       "array([[ 2.,  2.,  2., ..., -1., -1., -1.],\n",
       "       [ 2.,  2.,  2., ..., -1., -1., -1.],\n",
       "       [ 2.,  2.,  2., ...,  2.,  2., -1.],\n",
       "       ..., \n",
       "       [ 9.,  9.,  9., ...,  6.,  6., -1.],\n",
       "       [-1., -1., -1., ..., -1., -1., -1.],\n",
       "       [-1., -1., -1., ..., -1., -1., -1.]], dtype=float32)"
      ]
     },
     "execution_count": 29,
     "metadata": {},
     "output_type": "execute_result"
    }
   ],
   "source": [
    "seg_img_l"
   ]
  },
  {
   "cell_type": "code",
   "execution_count": 34,
   "metadata": {
    "collapsed": true
   },
   "outputs": [],
   "source": [
    "iou = np.load(\"../iou_final.npy\")"
   ]
  },
  {
   "cell_type": "code",
   "execution_count": 35,
   "metadata": {},
   "outputs": [
    {
     "data": {
      "text/plain": [
       "array([[ 0.72728607],\n",
       "       [ 0.31334911],\n",
       "       [ 0.98412769],\n",
       "       [ 0.90805343],\n",
       "       [ 0.71281422],\n",
       "       [ 0.86674293],\n",
       "       [ 0.53331446],\n",
       "       [ 0.        ],\n",
       "       [ 0.13341724],\n",
       "       [ 0.95431907],\n",
       "       [ 0.        ],\n",
       "       [ 0.        ],\n",
       "       [ 0.39602237],\n",
       "       [ 0.        ],\n",
       "       [ 0.26122284],\n",
       "       [ 0.05364466],\n",
       "       [ 0.38947901],\n",
       "       [ 0.41738661],\n",
       "       [ 0.        ],\n",
       "       [ 0.46205487],\n",
       "       [ 0.77428615],\n",
       "       [ 0.        ],\n",
       "       [ 0.        ],\n",
       "       [ 0.        ],\n",
       "       [ 0.        ],\n",
       "       [ 0.        ],\n",
       "       [ 0.        ],\n",
       "       [ 0.        ],\n",
       "       [ 0.        ],\n",
       "       [ 0.        ],\n",
       "       [ 0.        ],\n",
       "       [ 0.77498343],\n",
       "       [ 0.        ],\n",
       "       [ 0.        ],\n",
       "       [ 0.        ],\n",
       "       [ 0.        ],\n",
       "       [ 0.        ],\n",
       "       [ 0.        ],\n",
       "       [ 0.        ],\n",
       "       [ 0.        ],\n",
       "       [ 0.        ],\n",
       "       [ 0.        ],\n",
       "       [ 0.        ],\n",
       "       [ 0.3240878 ],\n",
       "       [ 0.        ],\n",
       "       [ 0.        ],\n",
       "       [ 0.        ],\n",
       "       [ 0.        ],\n",
       "       [ 0.        ],\n",
       "       [ 0.        ],\n",
       "       [ 0.        ],\n",
       "       [ 0.        ],\n",
       "       [ 0.        ],\n",
       "       [ 0.        ],\n",
       "       [ 0.06370664],\n",
       "       [ 0.        ],\n",
       "       [ 0.        ],\n",
       "       [ 0.        ],\n",
       "       [ 0.        ],\n",
       "       [ 0.        ],\n",
       "       [ 0.        ],\n",
       "       [ 0.        ],\n",
       "       [ 0.        ],\n",
       "       [ 0.        ],\n",
       "       [ 0.        ],\n",
       "       [ 0.        ],\n",
       "       [ 0.        ],\n",
       "       [ 0.        ],\n",
       "       [ 0.        ],\n",
       "       [ 0.        ],\n",
       "       [ 0.        ],\n",
       "       [ 0.        ],\n",
       "       [ 0.        ],\n",
       "       [ 0.        ],\n",
       "       [ 0.        ],\n",
       "       [ 0.        ],\n",
       "       [ 0.        ],\n",
       "       [ 0.        ],\n",
       "       [ 0.        ],\n",
       "       [ 0.        ],\n",
       "       [ 0.        ],\n",
       "       [ 0.        ],\n",
       "       [ 0.        ],\n",
       "       [ 0.        ],\n",
       "       [ 0.        ],\n",
       "       [ 0.        ],\n",
       "       [ 0.        ],\n",
       "       [ 0.        ],\n",
       "       [ 0.        ],\n",
       "       [ 0.        ],\n",
       "       [ 0.66906475],\n",
       "       [ 0.        ],\n",
       "       [ 0.        ],\n",
       "       [ 0.        ],\n",
       "       [ 0.        ],\n",
       "       [ 0.        ],\n",
       "       [ 0.        ],\n",
       "       [ 0.        ],\n",
       "       [ 0.        ],\n",
       "       [ 0.        ],\n",
       "       [ 0.        ],\n",
       "       [ 0.        ],\n",
       "       [ 0.        ],\n",
       "       [ 0.        ],\n",
       "       [ 0.        ],\n",
       "       [ 0.        ],\n",
       "       [ 0.        ],\n",
       "       [ 0.        ],\n",
       "       [ 0.        ],\n",
       "       [ 0.        ],\n",
       "       [ 0.        ],\n",
       "       [ 0.        ],\n",
       "       [ 0.        ],\n",
       "       [ 0.        ],\n",
       "       [ 0.        ],\n",
       "       [ 0.        ],\n",
       "       [ 0.        ],\n",
       "       [ 0.        ],\n",
       "       [ 0.        ],\n",
       "       [ 0.        ],\n",
       "       [ 0.        ],\n",
       "       [ 0.        ],\n",
       "       [ 0.        ],\n",
       "       [ 0.        ],\n",
       "       [ 0.        ],\n",
       "       [ 0.        ],\n",
       "       [ 0.        ],\n",
       "       [ 0.        ],\n",
       "       [ 0.        ],\n",
       "       [ 0.        ],\n",
       "       [ 0.        ],\n",
       "       [ 0.        ],\n",
       "       [ 0.        ],\n",
       "       [ 0.        ],\n",
       "       [ 0.        ],\n",
       "       [ 0.        ],\n",
       "       [ 0.        ],\n",
       "       [ 0.        ],\n",
       "       [ 0.        ],\n",
       "       [ 0.        ],\n",
       "       [ 0.        ],\n",
       "       [ 0.        ],\n",
       "       [ 0.        ],\n",
       "       [ 0.        ],\n",
       "       [ 0.        ],\n",
       "       [ 0.        ],\n",
       "       [ 0.        ],\n",
       "       [ 0.        ],\n",
       "       [ 0.        ],\n",
       "       [ 0.        ]])"
      ]
     },
     "execution_count": 35,
     "metadata": {},
     "output_type": "execute_result"
    }
   ],
   "source": []
  },
  {
   "cell_type": "code",
   "execution_count": null,
   "metadata": {
    "collapsed": true
   },
   "outputs": [],
   "source": []
  }
 ],
 "metadata": {
  "kernelspec": {
   "display_name": "Python 2",
   "language": "python",
   "name": "python2"
  },
  "language_info": {
   "codemirror_mode": {
    "name": "ipython",
    "version": 2
   },
   "file_extension": ".py",
   "mimetype": "text/x-python",
   "name": "python",
   "nbconvert_exporter": "python",
   "pygments_lexer": "ipython2",
   "version": "2.7.13"
  }
 },
 "nbformat": 4,
 "nbformat_minor": 2
}
