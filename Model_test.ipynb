{
 "cells": [
  {
   "cell_type": "code",
   "execution_count": 7,
   "metadata": {
    "collapsed": false
   },
   "outputs": [],
   "source": [
    "from __future__ import print_function\n",
    "from __future__ import division\n",
    "from os.path import splitext, join, isfile\n",
    "from os import environ\n",
    "from math import ceil\n",
    "import argparse\n",
    "import numpy as np\n",
    "from scipy import misc, ndimage\n",
    "from keras import backend as K\n",
    "from keras.models import model_from_json\n",
    "import tensorflow as tf\n",
    "import matplotlib.pyplot as plt\n",
    "from datetime import datetime\n",
    "from models.pspnet_pred import *"
   ]
  },
  {
   "cell_type": "code",
   "execution_count": 8,
   "metadata": {
    "collapsed": false
   },
   "outputs": [
    {
     "name": "stdout",
     "output_type": "stream",
     "text": [
      "     START AT 2018-01-11 21:54:39.063575\n",
      "     BF Init Model 2018-01-11 21:54:39.066099 0:00:00.002555\n"
     ]
    },
    {
     "ename": "NameError",
     "evalue": "name 'args' is not defined",
     "output_type": "error",
     "traceback": [
      "\u001b[0;31m---------------------------------------------------------------------------\u001b[0m",
      "\u001b[0;31mNameError\u001b[0m                                 Traceback (most recent call last)",
      "\u001b[0;32m<ipython-input-8-c2255357dd6e>\u001b[0m in \u001b[0;36m<module>\u001b[0;34m()\u001b[0m\n\u001b[1;32m      8\u001b[0m \u001b[0;34m\u001b[0m\u001b[0m\n\u001b[1;32m      9\u001b[0m \u001b[0;32mwith\u001b[0m \u001b[0msess\u001b[0m\u001b[0;34m.\u001b[0m\u001b[0mas_default\u001b[0m\u001b[0;34m(\u001b[0m\u001b[0;34m)\u001b[0m\u001b[0;34m:\u001b[0m\u001b[0;34m\u001b[0m\u001b[0m\n\u001b[0;32m---> 10\u001b[0;31m     \u001b[0;32mprint\u001b[0m\u001b[0;34m(\u001b[0m\u001b[0margs\u001b[0m\u001b[0;34m)\u001b[0m\u001b[0;34m\u001b[0m\u001b[0m\n\u001b[0m\u001b[1;32m     11\u001b[0m     \u001b[0;32mif\u001b[0m \u001b[0;34m\"pspnet50\"\u001b[0m \u001b[0;32min\u001b[0m \u001b[0mmodel\u001b[0m\u001b[0;34m:\u001b[0m\u001b[0;34m\u001b[0m\u001b[0m\n\u001b[1;32m     12\u001b[0m         pspnet = PSPNet50(nb_classes=150, input_shape=(473, 473),\n",
      "\u001b[0;31mNameError\u001b[0m: name 'args' is not defined"
     ]
    }
   ],
   "source": [
    "TIME_START = datetime.now()\n",
    "print(\"     START AT\", str(TIME_START))\n",
    "sess = tf.Session()\n",
    "K.set_session(sess)\n",
    "model = \"pspnet50_ade20k\"\n",
    "\n",
    "print(\"     BF Init Model\", str(datetime.now()), datetime.now() - TIME_START)\n",
    "\n",
    "with sess.as_default():\n",
    "    if \"pspnet50\" in model:\n",
    "        pspnet = PSPNet50(nb_classes=150, input_shape=(473, 473),\n",
    "                          weights=model)\n",
    "    else:\n",
    "        print(\"Network architecture not implemented.\")\n",
    "\n",
    "    print(\"     AF Init Model\", str(datetime.now()), datetime.now() - TIME_START)\n",
    "\n",
    "\n",
    "    #EVALUATION_SCALES = [0.5, 0.75, 1.0, 1.25, 1.5, 1.75]  # must be all floats!\n",
    "\n",
    "    list_name = \"data/ADEChallengeData2016/images/validation/ADE_val_00000001.jpg\"\n",
    "    img = misc.imread(input_name, mode=\"RGB\")\n",
    "    class_scores = predict_multi_scale(img, pspnet, EVALUATION_SCALES, args.sliding, args.flip)\n",
    "    class_image = np.argmax(class_scores, axis=2)\n",
    "    print(\"Predicting for \", input_name)\n",
    "    output_name = input_name.split(\"/\")[-1].replace(\".jpg\", \"\").replace(\".png\", \"\")\n",
    "    np.save(join(args.output_path,output_name), class_image.astype(\"int16\") + 1)"
   ]
  },
  {
   "cell_type": "code",
   "execution_count": null,
   "metadata": {
    "collapsed": true
   },
   "outputs": [],
   "source": []
  }
 ],
 "metadata": {
  "anaconda-cloud": {},
  "kernelspec": {
   "display_name": "Python [conda env:Python27]",
   "language": "python",
   "name": "conda-env-Python27-py"
  },
  "language_info": {
   "codemirror_mode": {
    "name": "ipython",
    "version": 2
   },
   "file_extension": ".py",
   "mimetype": "text/x-python",
   "name": "python",
   "nbconvert_exporter": "python",
   "pygments_lexer": "ipython2",
   "version": "2.7.13"
  }
 },
 "nbformat": 4,
 "nbformat_minor": 1
}
