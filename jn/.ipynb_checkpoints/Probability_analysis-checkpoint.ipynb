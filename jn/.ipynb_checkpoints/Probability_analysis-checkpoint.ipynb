{
 "cells": [
  {
   "cell_type": "code",
   "execution_count": null,
   "metadata": {
    "collapsed": true
   },
   "outputs": [],
   "source": [
    "import numpy as np\n",
    "import pandas as pd\n",
    "from src.concat_image import *\n",
    "from src.metrics_acc_iou import *\n",
    "import matplotlib.pyplot as plt\n",
    "from PIL import Image\n",
    "from PIL import ImageFont\n",
    "from PIL import ImageDraw \n",
    "%matplotlib inline\n",
    "colors = loadmat(\"../data/color150.mat\")['colors'] ## Load colormap\n",
    "def colorEncode(labelmap, colors):\n",
    "    '''\n",
    "    Encode label map with predefined color\n",
    "    :param labelmap: label array\n",
    "    :param colors:  Colors\n",
    "    :return:  Colored RGB Image\n",
    "    '''\n",
    "    labelmap = labelmap.astype('int')\n",
    "    labelmap_rgb = np.zeros((labelmap.shape[0], labelmap.shape[1], 3),\n",
    "                            dtype=np.uint8)\n",
    "    for label in np.unique(labelmap):\n",
    "        if label < 0:\n",
    "            continue\n",
    "        labelmap_rgb += (labelmap == label)[:, :, np.newaxis] * \\\n",
    "            np.tile(colors[label],\n",
    "                    (labelmap.shape[0], labelmap.shape[1], 1))\n",
    "    return labelmap_rgb"
   ]
  }
 ],
 "metadata": {
  "kernelspec": {
   "display_name": "Python 2",
   "language": "python",
   "name": "python2"
  },
  "language_info": {
   "codemirror_mode": {
    "name": "ipython",
    "version": 2
   },
   "file_extension": ".py",
   "mimetype": "text/x-python",
   "name": "python",
   "nbconvert_exporter": "python",
   "pygments_lexer": "ipython2",
   "version": "2.7.13"
  }
 },
 "nbformat": 4,
 "nbformat_minor": 2
}
